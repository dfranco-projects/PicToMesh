{
 "cells": [
  {
   "cell_type": "markdown",
   "id": "ec88b7c6",
   "metadata": {},
   "source": [
    "# **ORB Feature Matcher**\n",
    "\n",
    "### 🔍 What is ORB?\n",
    "\n",
    "- ORB (Oriented FAST and Rotated BRIEF) is a lightweight, real-time feature detection method. It’s optimized for speed and low memory usage—perfect for filtering images fast (and it has no license restriction issues). \n",
    "\n",
    "### 🤔 Why do we need ORB?\n",
    "\n",
    "- When you're uploading input images, it's easy to accidentally toss in an unrelated one, which can mess up your mesh. No worries, because ORB has your back! It compares key visual features and filters out the odd ones, keeping your input clean.\n",
    "\n",
    "### ⚙️ How does ORB work?\n",
    "\n",
    "- Even if your photos have different angles, lighting, or cameras, they still capture the same object. ORB identifies consistent visual patterns between them, and matches the real-world structure, not just pixels. That way, it removes noisy or mismatched images before generating your 3D mesh. :)\n",
    "\n",
    "**P.S.** If you want to dive deeper into how ORB works and how stacks up against other methods like SIFT and SURF? Check out this article: [A Comparison of SIFT, SURF, and ORB on OpenCV](https://mikhail-kennerley.medium.com/a-comparison-of-sift-surf-and-orb-on-opencv-59119b9ec3d0)\n",
    "\n",
    "### Time to put it to the test!"
   ]
  },
  {
   "cell_type": "code",
   "execution_count": null,
   "id": "1380c8fd",
   "metadata": {
    "vscode": {
     "languageId": "plaintext"
    }
   },
   "outputs": [],
   "source": []
  }
 ],
 "metadata": {
  "language_info": {
   "name": "python"
  }
 },
 "nbformat": 4,
 "nbformat_minor": 5
}
